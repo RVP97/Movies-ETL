{
 "cells": [
  {
   "cell_type": "code",
   "execution_count": 1,
   "metadata": {},
   "outputs": [],
   "source": [
    "import pandas as pd"
   ]
  },
  {
   "cell_type": "code",
   "execution_count": 6,
   "metadata": {},
   "outputs": [],
   "source": [
    "ratings = pd.read_csv('ratings.csv')\n",
    "kagle_metadata = pd.read_csv('movies_metadata.csv', low_memory=False)"
   ]
  },
  {
   "cell_type": "code",
   "execution_count": 18,
   "metadata": {},
   "outputs": [
    {
     "data": {
      "text/html": [
       "<div>\n",
       "<style scoped>\n",
       "    .dataframe tbody tr th:only-of-type {\n",
       "        vertical-align: middle;\n",
       "    }\n",
       "\n",
       "    .dataframe tbody tr th {\n",
       "        vertical-align: top;\n",
       "    }\n",
       "\n",
       "    .dataframe thead th {\n",
       "        text-align: right;\n",
       "    }\n",
       "</style>\n",
       "<table border=\"1\" class=\"dataframe\">\n",
       "  <thead>\n",
       "    <tr style=\"text-align: right;\">\n",
       "      <th></th>\n",
       "      <th>userId</th>\n",
       "      <th>movieId</th>\n",
       "      <th>rating</th>\n",
       "      <th>timestamp</th>\n",
       "    </tr>\n",
       "  </thead>\n",
       "  <tbody>\n",
       "    <tr>\n",
       "      <th>11435718</th>\n",
       "      <td>118673</td>\n",
       "      <td>345</td>\n",
       "      <td>5.0</td>\n",
       "      <td>973310331</td>\n",
       "    </tr>\n",
       "    <tr>\n",
       "      <th>12400454</th>\n",
       "      <td>128628</td>\n",
       "      <td>1080</td>\n",
       "      <td>4.0</td>\n",
       "      <td>1498646961</td>\n",
       "    </tr>\n",
       "    <tr>\n",
       "      <th>14869965</th>\n",
       "      <td>154593</td>\n",
       "      <td>2615</td>\n",
       "      <td>3.0</td>\n",
       "      <td>962937426</td>\n",
       "    </tr>\n",
       "    <tr>\n",
       "      <th>13320427</th>\n",
       "      <td>138510</td>\n",
       "      <td>66310</td>\n",
       "      <td>3.5</td>\n",
       "      <td>1381311958</td>\n",
       "    </tr>\n",
       "    <tr>\n",
       "      <th>2575554</th>\n",
       "      <td>26748</td>\n",
       "      <td>2539</td>\n",
       "      <td>3.5</td>\n",
       "      <td>1243369532</td>\n",
       "    </tr>\n",
       "  </tbody>\n",
       "</table>\n",
       "</div>"
      ],
      "text/plain": [
       "          userId  movieId  rating   timestamp\n",
       "11435718  118673      345     5.0   973310331\n",
       "12400454  128628     1080     4.0  1498646961\n",
       "14869965  154593     2615     3.0   962937426\n",
       "13320427  138510    66310     3.5  1381311958\n",
       "2575554    26748     2539     3.5  1243369532"
      ]
     },
     "execution_count": 18,
     "metadata": {},
     "output_type": "execute_result"
    }
   ],
   "source": [
    "ratings.sample(5)"
   ]
  },
  {
   "cell_type": "code",
   "execution_count": null,
   "metadata": {},
   "outputs": [],
   "source": []
  }
 ],
 "metadata": {
  "kernelspec": {
   "display_name": "Python 3.7.13 ('PythonData')",
   "language": "python",
   "name": "python3"
  },
  "language_info": {
   "codemirror_mode": {
    "name": "ipython",
    "version": 3
   },
   "file_extension": ".py",
   "mimetype": "text/x-python",
   "name": "python",
   "nbconvert_exporter": "python",
   "pygments_lexer": "ipython3",
   "version": "3.7.13"
  },
  "orig_nbformat": 4,
  "vscode": {
   "interpreter": {
    "hash": "d14ea8a84b56717dca8b029bff7d6a522081953109dbe5e26f864e6880ebf360"
   }
  }
 },
 "nbformat": 4,
 "nbformat_minor": 2
}
